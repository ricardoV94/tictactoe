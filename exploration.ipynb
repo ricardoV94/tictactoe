{
 "cells": [
  {
   "cell_type": "markdown",
   "metadata": {
    "collapsed": true,
    "pycharm": {
     "name": "#%% md\n"
    }
   },
   "source": [
    "# From game theory to general information seeking\n",
    "\n",
    "## Intro\n",
    "\n",
    "Minimax assumes the worst case scenario, where the opponent is optimal. This simplifies search to a single worst case scenario world model, but can miss rewards when facing weaker opponents (e.g., via traps).\n",
    "\n",
    "If one were to know with certainty the model of the opponent (and that opponent model of oneself), that could be used to model adversary choices via a recursive minimax search. The simplest cases involve:\n",
    "\n",
    "1. `X` assumes `O` plays randomly, in which case the evaluation converges to a simple dynamic programming search (or expectiminimax without adversary nodes).\n",
    "\n",
    "2. `X` knows that `O` assumes `X` plays randomly, in which case `X` can simulate how `O` would evaluate each position and play against that. This allows for deterministic traps. It assumes `O` would never realize `X` is not actually playing at random.\n",
    "\n",
    "Curiosity question: If both assume the other assumes each one plays randomly, it would converge back to the original minimax?\n",
    "\n",
    "3. `X` knows that `O` uses a given heuristic instead of recursive minimax search (mixed models where an adversary may use minimax for `n` iterations followed by heuristic evaluation can also be considered)\n",
    "\n",
    "In each case it should be possible (provided the game is flexible enoguh) for `X` to increase it's expected payoff by deviating from the optimal policy, specially in cases where it starts at a disadvantage.\n",
    "\n",
    "**Section 1** provides simple demos for these 3 scenarios, with references to more extensive works that have been published in the literature.\n",
    "\n",
    "***\n",
    "\n",
    "**Section 2** exhamines more complicated scenarios, where `X` does not know for sure what the model of `O` is, but might be able to infer this based on their choices. In enough complex games this would in theory motivate \"adversary-testing\" moves that sacrifice some efficiency / incur some risk to obtain extra information about the adversary.\n",
    "\n",
    "This provides an example of artifical-intelligence information seeking in a context where the agent has a perfect (deterministic or stochastic) model of the world, and it is obvious (for the programmer at least) what cues are valuable and when they should be collected / evaluated.\n",
    "\n",
    "Literature review is needed to assess what has been done in this field already\n",
    "\n",
    "***\n",
    "\n",
    "**Section 3** explores model-based inference and information seeking in less constrained environments... NEED A GOOD LEARNING ENVIRONMENT FOR THIS!\n",
    "\n",
    "Literature review is needed to asses what has been done in this field already\n",
    "\n",
    "***\n",
    "\n",
    "**(Possibly unrelated)**\n",
    "\n",
    "Genetic algorithm for meta-learning / exploration-exploitation based on simple learning models / information content cues\n",
    "\n",
    "\n",
    "\n",
    "\n"
   ]
  },
  {
   "cell_type": "markdown",
   "metadata": {},
   "source": [
    "# Minimax evaluation (tic tac toe)"
   ]
  },
  {
   "cell_type": "code",
   "execution_count": 1,
   "metadata": {},
   "outputs": [],
   "source": [
    "%load_ext autoreload\n",
    "%autoreload 2"
   ]
  },
  {
   "cell_type": "code",
   "execution_count": 58,
   "metadata": {},
   "outputs": [],
   "source": [
    "import itertools\n",
    "from functools import reduce\n",
    "from operator import xor"
   ]
  },
  {
   "cell_type": "code",
   "execution_count": 11,
   "metadata": {},
   "outputs": [],
   "source": [
    "import numpy as np\n",
    "import matplotlib.pyplot as plt"
   ]
  },
  {
   "cell_type": "code",
   "execution_count": 126,
   "metadata": {},
   "outputs": [],
   "source": [
    "from tictactoe import Board, X, O\n",
    "from minimax import MiniMax\n",
    "from expectiminimax import ExpectiMiniMax\n",
    "from plot import plot_board_score, clean_square"
   ]
  },
  {
   "cell_type": "markdown",
   "metadata": {
    "heading_collapsed": true
   },
   "source": [
    "## Optimal adversary"
   ]
  },
  {
   "cell_type": "code",
   "execution_count": 7,
   "metadata": {
    "hidden": true
   },
   "outputs": [
    {
     "data": {
      "text/plain": [
       "0"
      ]
     },
     "execution_count": 7,
     "metadata": {},
     "output_type": "execute_result"
    }
   ],
   "source": [
    "engine = MiniMax()\n",
    "b = Board()\n",
    "engine.search(b)"
   ]
  },
  {
   "cell_type": "code",
   "execution_count": 9,
   "metadata": {
    "hidden": true
   },
   "outputs": [
    {
     "data": {
      "text/plain": [
       "{'bestmove': Board((1, 0, 0, 0, 0, 0, 0, 0, 0)),\n",
       " 'bestscore': 0,\n",
       " 'moves': [Board((1, 0, 0, 0, 0, 0, 0, 0, 0)),\n",
       "  Board((0, 1, 0, 0, 0, 0, 0, 0, 0)),\n",
       "  Board((0, 0, 0, 0, 1, 0, 0, 0, 0))],\n",
       " 'scores': [0, 0, 0]}"
      ]
     },
     "execution_count": 9,
     "metadata": {},
     "output_type": "execute_result"
    }
   ],
   "source": [
    "engine[b]"
   ]
  },
  {
   "cell_type": "code",
   "execution_count": 16,
   "metadata": {
    "hidden": true
   },
   "outputs": [],
   "source": []
  },
  {
   "cell_type": "code",
   "execution_count": 55,
   "metadata": {
    "hidden": true
   },
   "outputs": [
    {
     "data": {
      "text/plain": [
       "{'bestmove': Board((1, 0, 0, 0, 2, 0, 0, 0, 0)),\n",
       " 'bestscore': 0,\n",
       " 'moves': [Board((1, 2, 0, 0, 0, 0, 0, 0, 0)),\n",
       "  Board((1, 0, 2, 0, 0, 0, 0, 0, 0)),\n",
       "  Board((1, 0, 0, 0, 2, 0, 0, 0, 0)),\n",
       "  Board((1, 0, 0, 0, 0, 2, 0, 0, 0)),\n",
       "  Board((1, 0, 0, 0, 0, 0, 0, 0, 2))],\n",
       " 'scores': [-3, -3, 0, -3, -3]}"
      ]
     },
     "execution_count": 55,
     "metadata": {},
     "output_type": "execute_result"
    }
   ],
   "source": [
    "engine[Board((1, 0, 0, 0, 0, 0, 0, 0, 0))]"
   ]
  },
  {
   "cell_type": "code",
   "execution_count": 62,
   "metadata": {
    "hidden": true
   },
   "outputs": [
    {
     "data": {
      "text/plain": [
       "(1, 0, 0, 0, 0)"
      ]
     },
     "execution_count": 62,
     "metadata": {},
     "output_type": "execute_result"
    }
   ],
   "source": [
    "a = (1, 0, 2, 0, 0) \n",
    "b = (0, 0, 2, 0, 0)\n",
    "tuple(a_ ^ b_ for a_, b_ in zip(a, b))"
   ]
  },
  {
   "cell_type": "code",
   "execution_count": 112,
   "metadata": {
    "hidden": true
   },
   "outputs": [],
   "source": [
    "def detect_changed_square(ab, bb):\n",
    "    # Detect which square changed between ab and bb boards\n",
    "    for i, (a, b) in enumerate(zip(ab, bb)):\n",
    "        if a != b:\n",
    "            return i\n",
    "    return ValueError('boards are equal')\n",
    "\n",
    "def get_scores(board):\n",
    "    scores = np.full(9, np.nan)\n",
    "    for next_board in board.generate_legal_moves():\n",
    "        score = -engine[next_board]['bestscore']\n",
    "        square = detect_changed_square(board.board, next_board.board)\n",
    "        scores[square] = score\n",
    "    return scores"
   ]
  },
  {
   "cell_type": "code",
   "execution_count": 147,
   "metadata": {
    "hidden": true
   },
   "outputs": [
    {
     "data": {
      "image/png": "[encoded data removed]",
      "text/plain": [
       "<Figure size 432x288 with 6 Axes>"
      ]
     },
     "metadata": {},
     "output_type": "display_data"
    }
   ],
   "source": [
    "fig, ax = plt.subplots(2, 3, figsize=(6, 4))\n",
    "\n",
    "clean_square(ax[0, 0])\n",
    "clean_square(ax[0, 2])\n",
    "\n",
    "board = Board((0, 0, 0, 0, 0, 0, 0, 0, 0)) \n",
    "scores = get_scores(board)\n",
    "plot_board_score(ax[0, 1], scores, board)\n",
    "\n",
    "board = Board((X, 0, 0, 0, 0, 0, 0, 0, 0)) \n",
    "scores = get_scores(board)\n",
    "plot_board_score(ax[1, 0], scores, board)\n",
    "\n",
    "board = Board((0, X, 0, 0, 0, 0, 0, 0, 0)) \n",
    "scores = get_scores(board)\n",
    "plot_board_score(ax[1, 1], scores, board)\n",
    "\n",
    "board = Board((0, 0, 0, 0, X, 0, 0, 0, 0)) \n",
    "scores = get_scores(board)\n",
    "plot_board_score(ax[1, 2], scores, board)\n",
    "\n",
    "plt.subplots_adjust(wspace=0)"
   ]
  },
  {
   "cell_type": "markdown",
   "metadata": {
    "hidden": true
   },
   "source": [
    "The figure above shows the minimax evaluation for all possible 1st and 2nd moves (ignoring board symmetries), with the expected value of each from the point of view of the current player `X` in the first row and `O` in the second. A score of 0 (gray) indicates an expected draw, while negative scores (blue) indicate an expected loss, with the magnitude indicating how many squares will be unused by the time the game is over (that is higher magnitude corresponds to quicker losses or victories).\n",
    "\n",
    "We can see that minimax does not distinguish between any of the initial moves for `X` (first row), as it expects every game to end in a draw. However, the number of non-losing moves for `O` (2nd row) varies depending on what `X` played. If `X` played in the corner square, only the center square will lead to a non-losing position according to minimax evaluation. The two other moves provide a larger number of non-losing squares. \n",
    "\n",
    "This suggests that different first moves might prove more valuable when `X` is facing a suboptimal `O` player. If `O` plays randomly, the corner move would be more valuable (shown in the next subsection), whereas if `O` has a general bias to play in the center square, `X` might be better of occupying it in the first move. With access to a dataset of games, it should be possible to evaluate the prior probability of either type of bias. This might be improved upon further by opponent modelling which I explore in this essay."
   ]
  },
  {
   "cell_type": "code",
   "execution_count": 151,
   "metadata": {
    "hidden": true
   },
   "outputs": [
    {
     "data": {
      "text/plain": [
       "[Board((1, 2, 0, 0, 0, 0, 0, 0, 0)),\n",
       " Board((1, 0, 2, 0, 0, 0, 0, 0, 0)),\n",
       " Board((1, 0, 0, 0, 2, 0, 0, 0, 0)),\n",
       " Board((1, 0, 0, 0, 0, 2, 0, 0, 0)),\n",
       " Board((1, 0, 0, 0, 0, 0, 0, 0, 2))]"
      ]
     },
     "execution_count": 151,
     "metadata": {},
     "output_type": "execute_result"
    }
   ],
   "source": [
    "board = Board((X, 0, 0, 0, 0, 0, 0, 0, 0)) \n",
    "board.generate_unique_legal_moves()"
   ]
  },
  {
   "cell_type": "code",
   "execution_count": 157,
   "metadata": {
    "hidden": true
   },
   "outputs": [
    {
     "data": {
      "image/png": "[encoded data removed]",
      "text/plain": [
       "<Figure size 720x288 with 10 Axes>"
      ]
     },
     "metadata": {},
     "output_type": "display_data"
    }
   ],
   "source": [
    "fig, ax = plt.subplots(2, 5, figsize=(10, 4))\n",
    "\n",
    "clean_square(ax[0, 0])\n",
    "clean_square(ax[0, 1])\n",
    "clean_square(ax[0, 3])\n",
    "clean_square(ax[0, 4])\n",
    "\n",
    "board = Board((X, 0, 0, 0, 0, 0, 0, 0, 0)) \n",
    "scores = get_scores(board)\n",
    "plot_board_score(ax[0, 2], scores, board)\n",
    "\n",
    "board = Board((X, O, 0, 0, 0, 0, 0, 0, 0)) \n",
    "scores = get_scores(board)\n",
    "plot_board_score(ax[1, 0], scores, board)\n",
    "\n",
    "board = Board((X, 0, O, 0, 0, 0, 0, 0, 0)) \n",
    "scores = get_scores(board)\n",
    "plot_board_score(ax[1, 1], scores, board)\n",
    "\n",
    "board = Board((X, 0, 0, 0, O, 0, 0, 0, 0)) \n",
    "scores = get_scores(board)\n",
    "plot_board_score(ax[1, 2], scores, board)\n",
    "\n",
    "board = Board((X, 0, 0, 0, 0, O, 0, 0, 0)) \n",
    "scores = get_scores(board)\n",
    "plot_board_score(ax[1, 3], scores, board)\n",
    "\n",
    "board = Board((X, 0, 0, 0, 0, 0, 0, 0, O)) \n",
    "scores = get_scores(board)\n",
    "plot_board_score(ax[1, 4], scores, board)\n",
    "\n",
    "plt.subplots_adjust(wspace=0)"
   ]
  },
  {
   "cell_type": "markdown",
   "metadata": {
    "hidden": true
   },
   "source": [
    "The figure above shows the board evaluation for the 2nd and 3rd moves, assuming `X` started in the corner. It is now possible for `X` to blunder in 2 of the 5 unique moves (-2.0 blue squares) as long as `O` does not play the optimal center move (or the suboptimal first move). Switching to the perspective of `O` temporarily, this suggests that playing suboptimally might provide information about `X` (is she a perfect player?) that could be exploited in subsequent games, at the cost of losing one game. More importantly, there might be different positions where more or less information can be gathered for more or less risk. Also the value of this information is higher early in a series of matches against the same opponent.\n",
    "\n",
    "The two other 2nd and 3rd move evaluations are shown just for completeness, and can be skipped safely."
   ]
  },
  {
   "cell_type": "code",
   "execution_count": 158,
   "metadata": {
    "hidden": true
   },
   "outputs": [
    {
     "data": {
      "text/plain": [
       "[Board((2, 1, 0, 0, 0, 0, 0, 0, 0)),\n",
       " Board((0, 1, 0, 2, 0, 0, 0, 0, 0)),\n",
       " Board((0, 1, 0, 0, 2, 0, 0, 0, 0)),\n",
       " Board((0, 1, 0, 0, 0, 0, 2, 0, 0)),\n",
       " Board((0, 1, 0, 0, 0, 0, 0, 2, 0))]"
      ]
     },
     "execution_count": 158,
     "metadata": {},
     "output_type": "execute_result"
    }
   ],
   "source": [
    "board = Board((0, X, 0, 0, 0, 0, 0, 0, 0)) \n",
    "board.generate_unique_legal_moves()"
   ]
  },
  {
   "cell_type": "code",
   "execution_count": 160,
   "metadata": {
    "hidden": true
   },
   "outputs": [
    {
     "data": {
      "image/png": "[encoded data removed]",
      "text/plain": [
       "<Figure size 720x288 with 10 Axes>"
      ]
     },
     "metadata": {},
     "output_type": "display_data"
    }
   ],
   "source": [
    "fig, ax = plt.subplots(2, 5, figsize=(10, 4))\n",
    "\n",
    "clean_square(ax[0, 0])\n",
    "clean_square(ax[0, 1])\n",
    "clean_square(ax[0, 3])\n",
    "clean_square(ax[0, 4])\n",
    "\n",
    "board = Board((0, X, 0, 0, 0, 0, 0, 0, 0)) \n",
    "scores = get_scores(board)\n",
    "plot_board_score(ax[0, 2], scores, board)\n",
    "\n",
    "board = Board((O, X, 0, 0, 0, 0, 0, 0, 0)) \n",
    "scores = get_scores(board)\n",
    "plot_board_score(ax[1, 0], scores, board)\n",
    "\n",
    "board = Board((0, X, 0, O, 0, 0, 0, 0, 0)) \n",
    "scores = get_scores(board)\n",
    "plot_board_score(ax[1, 1], scores, board)\n",
    "\n",
    "board = Board((0, X, 0, 0, O, 0, 0, 0, 0)) \n",
    "scores = get_scores(board)\n",
    "plot_board_score(ax[1, 2], scores, board)\n",
    "\n",
    "board = Board((0, X, 0, 0, 0, 0, O, 0, 0)) \n",
    "scores = get_scores(board)\n",
    "plot_board_score(ax[1, 3], scores, board)\n",
    "\n",
    "board = Board((0, X, 0, 0, 0, 0, 0, O, 0)) \n",
    "scores = get_scores(board)\n",
    "plot_board_score(ax[1, 4], scores, board)\n",
    "\n",
    "plt.subplots_adjust(wspace=0)"
   ]
  },
  {
   "cell_type": "code",
   "execution_count": 161,
   "metadata": {
    "hidden": true
   },
   "outputs": [
    {
     "data": {
      "text/plain": [
       "[Board((2, 0, 0, 0, 1, 0, 0, 0, 0)), Board((0, 2, 0, 0, 1, 0, 0, 0, 0))]"
      ]
     },
     "execution_count": 161,
     "metadata": {},
     "output_type": "execute_result"
    }
   ],
   "source": [
    "board = Board((0, 0, 0, 0, X, 0, 0, 0, 0)) \n",
    "board.generate_unique_legal_moves()"
   ]
  },
  {
   "cell_type": "code",
   "execution_count": 162,
   "metadata": {
    "hidden": true
   },
   "outputs": [
    {
     "data": {
      "image/png": "[encoded data removed]",
      "text/plain": [
       "<Figure size 288x288 with 4 Axes>"
      ]
     },
     "metadata": {},
     "output_type": "display_data"
    }
   ],
   "source": [
    "fig, ax = plt.subplots(2, 2, figsize=(4, 4))\n",
    "\n",
    "clean_square(ax[0, 1])\n",
    "\n",
    "board = Board((0, 0, 0, 0, X, 0, 0, 0, 0)) \n",
    "scores = get_scores(board)\n",
    "plot_board_score(ax[0, 0], scores, board)\n",
    "\n",
    "board = Board((O, 0, 0, 0, X, 0, 0, 0, 0)) \n",
    "scores = get_scores(board)\n",
    "plot_board_score(ax[1, 0], scores, board)\n",
    "\n",
    "board = Board((0, O, 0, 0, X, 0, 0, 0, 0)) \n",
    "scores = get_scores(board)\n",
    "plot_board_score(ax[1, 1], scores, board)\n",
    "\n",
    "plt.subplots_adjust(wspace=0)"
   ]
  },
  {
   "cell_type": "markdown",
   "metadata": {},
   "source": [
    "## Random adversary"
   ]
  },
  {
   "cell_type": "markdown",
   "metadata": {},
   "source": [
    "## Optimal adversary + bias towards center square (maybe not needed)"
   ]
  },
  {
   "cell_type": "code",
   "execution_count": null,
   "metadata": {},
   "outputs": [],
   "source": []
  },
  {
   "cell_type": "markdown",
   "metadata": {},
   "source": [
    "## Opponent modelling"
   ]
  },
  {
   "cell_type": "markdown",
   "metadata": {},
   "source": [
    "This section demonstrates opponent modelling in a tic-tac-toes environment, assuming opponents can be either optimal or random, with a known prior probability. In this section we are interested in inferring not the value of each position but its expected information gain. In the next section we will combine opponent modelling and exploitation."
   ]
  },
  {
   "cell_type": "markdown",
   "metadata": {},
   "source": [
    "## Opponent modelling exploitation"
   ]
  },
  {
   "cell_type": "code",
   "execution_count": null,
   "metadata": {},
   "outputs": [],
   "source": []
  },
  {
   "cell_type": "code",
   "execution_count": null,
   "metadata": {},
   "outputs": [],
   "source": []
  }
 ],
 "metadata": {
  "hide_input": true,
  "jupytext": {
   "formats": "ipynb,py:percent"
  },
  "kernelspec": {
   "display_name": "Python 3",
   "language": "python",
   "name": "python3"
  },
  "language_info": {
   "codemirror_mode": {
    "name": "ipython",
    "version": 3
   },
   "file_extension": ".py",
   "mimetype": "text/x-python",
   "name": "python",
   "nbconvert_exporter": "python",
   "pygments_lexer": "ipython3",
   "version": "3.8.5"
  },
  "toc": {
   "base_numbering": 1,
   "nav_menu": {},
   "number_sections": true,
   "sideBar": true,
   "skip_h1_title": false,
   "title_cell": "Table of Contents",
   "title_sidebar": "Contents",
   "toc_cell": false,
   "toc_position": {},
   "toc_section_display": true,
   "toc_window_display": false
  }
 },
 "nbformat": 4,
 "nbformat_minor": 1
}
